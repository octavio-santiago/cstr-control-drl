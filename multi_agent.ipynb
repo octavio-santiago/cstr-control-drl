{
 "cells": [
  {
   "cell_type": "code",
   "execution_count": 1,
   "id": "3cc65c5e",
   "metadata": {},
   "outputs": [],
   "source": [
    "import ray\n",
    "import ray.rllib.agents.ppo as ppo\n",
    "from ray.rllib.algorithms.algorithm import Algorithm\n",
    "from ray.rllib.policy.policy import Policy\n",
    "\n",
    "#import gym\n",
    "import gymnasium as gym\n",
    "\n",
    "from gym.core import ActionWrapper\n",
    "import glob\n",
    "\n",
    "import shutil\n",
    "import os \n",
    "\n",
    "import numpy as np\n",
    "\n",
    "import json\n",
    "import random\n",
    "import ast\n",
    "from scipy import interpolate\n",
    "import math\n",
    "from typing import Any, Dict, Union\n",
    "import time\n",
    "import pathlib\n",
    "from functools import partial\n",
    "import datetime\n",
    "import pandas as pd\n",
    "\n",
    "import sys\n",
    "import matplotlib.pyplot as plt\n",
    "\n",
    "\n",
    "from sim import cstr_model as cstr\n",
    "\n"
   ]
  },
  {
   "cell_type": "code",
   "execution_count": 36,
   "id": "c4498581",
   "metadata": {},
   "outputs": [],
   "source": [
    "class CSTREnv(gym.Env):\n",
    "    def __init__(self, env_config):\n",
    "        #n_vars = 5 #T,Tc,Ca,Cr,Tr\n",
    "        #n_actions = 1 #dTc\n",
    "        self.Cref_signal = env_config['Cref_signal']\n",
    "        self.selector = env_config['selector']\n",
    "        self.model = env_config['model']\n",
    "\n",
    "        if self.selector == True:\n",
    "            self.action_space = gym.spaces.Discrete(3) ##add number of concepts\n",
    "            self.models = []\n",
    "\n",
    "            for i in self.model:\n",
    "                self.models.append(Policy.from_checkpoint(glob.glob(i+\"/*\")[-1])['default_policy'] )\n",
    "\n",
    "            self.model = self.models\n",
    "\n",
    "        else:\n",
    "            self.action_space = gym.spaces.Box(low=np.array([-10.0]), high=np.array([10.0]))\n",
    "\n",
    "        self.observation_space = gym.spaces.Box(low=np.array([200, 200, 0, 0, 200]), high=np.array([500, 500, 12, 12, 500]))   \n",
    "\n",
    "    def reset(self):\n",
    "        noise_percentage = 0\n",
    "        Cref_signal = self.Cref_signal\n",
    "\n",
    "        #initial conditions\n",
    "        Ca0: float = 8.5698 #kmol/m3\n",
    "        T0: float = 311.2639 #K\n",
    "        Tc0: float = 292 #K\n",
    "\n",
    "        self.T = T0\n",
    "        self.Tc = Tc0\n",
    "        self.Ca = Ca0\n",
    "        self.ΔTc = 0\n",
    "\n",
    "        self.cnt = 0\n",
    "\n",
    "        self.Cref_signal = Cref_signal\n",
    "        self.noise_percentage = noise_percentage\n",
    "        if self.noise_percentage > 0:\n",
    "            self.noise_percentage = self.noise_percentage/100\n",
    "\n",
    "        if self.Cref_signal == 2:\n",
    "            self.Cref = 2\n",
    "            self.Tref = 373.1311\n",
    "            self.Ca = 2\n",
    "            self.T = 373.1311\n",
    "        else:\n",
    "            self.Cref = 8.5698\n",
    "            self.Tref = 311.2612\n",
    "\n",
    "        self.rms = 0\n",
    "        self.y_list = []\n",
    "        self.obs = np.array([self.T,self.Tc,self.Ca,self.Cref,self.Tref], dtype=np.float32)\n",
    "        return self.obs\n",
    "\n",
    "    def step(self, action):\n",
    "        if self.Cref_signal == 0:\n",
    "            self.Cref = 0\n",
    "            self.Tref = 0\n",
    "        elif self.Cref_signal == 1: #transition\n",
    "            #update Cref an Tref\n",
    "            time = 90\n",
    "            p1 = 22 \n",
    "            p2 = 74\n",
    "            k = self.cnt+p1\n",
    "            ceq = [8.57,6.9275,5.2850,3.6425,2]\n",
    "            teq = [311.2612,327.9968,341.1084,354.7246,373.1311]\n",
    "            C = interpolate.interp1d([0,p1,p2,time], [8.57,8.57,2,2])\n",
    "            self.Cref = float(C(k))\n",
    "            T_ = interpolate.interp1d([0,p1,p2,time], [311.2612,311.2612,373.1311,373.1311])\n",
    "            self.Tref = float(T_(k))\n",
    "        elif self.Cref_signal == 2: #steady state 1\n",
    "            self.Cref = 2\n",
    "            self.Tref = 373.1311\n",
    "        elif self.Cref_signal == 3: #steady state 2\n",
    "            self.Cref = 8.5698\n",
    "            self.Tref = 311.2612\n",
    "        elif self.Cref_signal == 4: #full sim\n",
    "            k = self.cnt\n",
    "            time = 90\n",
    "            #update Cref an Tref\n",
    "            p1 = 22 \n",
    "            p2 = 74 \n",
    "            ceq = [8.57,6.9275,5.2850,3.6425,2]\n",
    "            teq = [311.2612,327.9968,341.1084,354.7246,373.1311]\n",
    "            C = interpolate.interp1d([0,p1,p2,time], [8.57,8.57,2,2])\n",
    "            self.Cref = float(C(k))\n",
    "            T_ = interpolate.interp1d([0,p1,p2,time], [311.2612,311.2612,373.1311,373.1311])\n",
    "            self.Tref = float(T_(k))\n",
    "\n",
    "        if self.selector == True:\n",
    "            self.ΔTc = self.model[action].compute_single_action(self.obs)[0][0]\n",
    "        else:\n",
    "            self.ΔTc = action\n",
    "\n",
    "        error_var = self.noise_percentage\n",
    "        σ_max1 = error_var * (8.5698 - 2)\n",
    "        σ_max2 = error_var * ( 373.1311 - 311.2612)\n",
    "\n",
    "        σ_Ca = random.uniform(-σ_max1, σ_max1)\n",
    "        σ_T = random.uniform(-σ_max2, σ_max2)\n",
    "        mu = 0\n",
    "\n",
    "        #calling the CSTR python model\n",
    "        sim_model = cstr.CSTRModel(T = self.T, Ca = self.Ca, Tc = self.Tc, ΔTc = self.ΔTc)\n",
    "\n",
    "        #Tc\n",
    "        self.Tc += self.ΔTc\n",
    "\n",
    "        #Tr\n",
    "        self.T = sim_model.T + σ_T\n",
    "\n",
    "        #Ca\n",
    "        self.Ca = sim_model.Ca + σ_Ca\n",
    "        self.y_list.append(self.Ca)\n",
    "\n",
    "        #Increase time\n",
    "        self.cnt += 1\n",
    "\n",
    "        self.rms = math.sqrt( (self.Ca - self.Cref)**2 )\n",
    "\n",
    "        reward = float(1/self.rms)\n",
    "\n",
    "        done = False\n",
    "\n",
    "        #end the simulation\n",
    "        if self.cnt == 90 or self.T >= 400 or (self.Cref_signal == 1 and self.cnt == 68): \n",
    "            done = True\n",
    "\n",
    "        info = {}\n",
    "        \n",
    "        self.obs = np.array([self.T,self.Tc,self.Ca,self.Cref,self.Tref], dtype=np.float32)\n",
    "        return self.obs, reward, done, info\n",
    "\n",
    "\n",
    "\n"
   ]
  },
  {
   "cell_type": "code",
   "execution_count": 5,
   "id": "e11f6899",
   "metadata": {},
   "outputs": [],
   "source": [
    "def train_cstr_model(concept,selector = False, model = None):\n",
    "    #ray.shutdown()\n",
    "    #ray.init()\n",
    "    path_root0 = \"/models/\"\n",
    "    path_root = os.getcwd() + path_root0\n",
    "    path = path_root + \"cstr_rllib_model_\" + concept\n",
    "    print(path)\n",
    "\n",
    "    if concept == 'ss1':\n",
    "        cstr_config = 3\n",
    "    elif concept == 'ss2':\n",
    "        cstr_config = 2\n",
    "    elif concept == 'transition':\n",
    "        cstr_config = 1\n",
    "    else:\n",
    "        cstr_config = 4\n",
    "\n",
    "    algo = ppo.PPOTrainer(env=CSTREnv, config={\n",
    "      \"env_config\": {\"Cref_signal\":cstr_config,\n",
    "                     \"selector\": selector,\n",
    "                     \"model\": model},  # config to pass to env class\n",
    "    })\n",
    "\n",
    "        #algo = config.build(env=CSTREnv, config={\"a\": 0} )  \n",
    "        #if selector == True:\n",
    "        #  algo.restore(path)\n",
    "\n",
    "    s = \"{:3d} reward {:6.2f} < {:6.2f} < {:6.2f} len {:6.2f}\"\n",
    "    for n in range(20):\n",
    "        result = algo.train()\n",
    "        #print(result)\n",
    "\n",
    "    print(s.format(\n",
    "        n+1,\n",
    "        result[\"episode_reward_min\"],\n",
    "        result[\"episode_reward_mean\"],\n",
    "        result[\"episode_reward_max\"],\n",
    "        result[\"episode_len_mean\"]\n",
    "        ))\n",
    "    \n",
    "    # Save state of the trained Algorithm in a checkpoint.\n",
    "    #if selector == False:\n",
    "    #os.mkdir(path_root)\n",
    "    #shutil.rmtree(path, ignore_errors=True, onerror=None)\n",
    "    checkpoint_dir = algo.save(path)\n",
    "\n",
    "    #ray.shutdown()\n",
    "  \n",
    "    return path"
   ]
  },
  {
   "cell_type": "code",
   "execution_count": 6,
   "id": "e9983702",
   "metadata": {},
   "outputs": [
    {
     "name": "stderr",
     "output_type": "stream",
     "text": [
      "2023-03-11 14:49:25,199\tINFO worker.py:1550 -- Started a local Ray instance. View the dashboard at \u001b[1m\u001b[32mhttp://127.0.0.1:8265 \u001b[39m\u001b[22m\n"
     ]
    },
    {
     "data": {
      "text/html": [
       "<div>\n",
       "    <div style=\"margin-left: 50px;display: flex;flex-direction: row;align-items: center\">\n",
       "        <h3 style=\"color: var(--jp-ui-font-color0)\">Ray</h3>\n",
       "        <svg version=\"1.1\" id=\"ray\" width=\"3em\" viewBox=\"0 0 144.5 144.6\" style=\"margin-left: 3em;margin-right: 3em\">\n",
       "            <g id=\"layer-1\">\n",
       "                <path fill=\"#00a2e9\" class=\"st0\" d=\"M97.3,77.2c-3.8-1.1-6.2,0.9-8.3,5.1c-3.5,6.8-9.9,9.9-17.4,9.6S58,88.1,54.8,81.2c-1.4-3-3-4-6.3-4.1\n",
       "                    c-5.6-0.1-9.9,0.1-13.1,6.4c-3.8,7.6-13.6,10.2-21.8,7.6C5.2,88.4-0.4,80.5,0,71.7c0.1-8.4,5.7-15.8,13.8-18.2\n",
       "                    c8.4-2.6,17.5,0.7,22.3,8c1.3,1.9,1.3,5.2,3.6,5.6c3.9,0.6,8,0.2,12,0.2c1.8,0,1.9-1.6,2.4-2.8c3.5-7.8,9.7-11.8,18-11.9\n",
       "                    c8.2-0.1,14.4,3.9,17.8,11.4c1.3,2.8,2.9,3.6,5.7,3.3c1-0.1,2,0.1,3,0c2.8-0.5,6.4,1.7,8.1-2.7s-2.3-5.5-4.1-7.5\n",
       "                    c-5.1-5.7-10.9-10.8-16.1-16.3C84,38,81.9,37.1,78,38.3C66.7,42,56.2,35.7,53,24.1C50.3,14,57.3,2.8,67.7,0.5\n",
       "                    C78.4-2,89,4.7,91.5,15.3c0.1,0.3,0.1,0.5,0.2,0.8c0.7,3.4,0.7,6.9-0.8,9.8c-1.7,3.2-0.8,5,1.5,7.2c6.7,6.5,13.3,13,19.8,19.7\n",
       "                    c1.8,1.8,3,2.1,5.5,1.2c9.1-3.4,17.9-0.6,23.4,7c4.8,6.9,4.6,16.1-0.4,22.9c-5.4,7.2-14.2,9.9-23.1,6.5c-2.3-0.9-3.5-0.6-5.1,1.1\n",
       "                    c-6.7,6.9-13.6,13.7-20.5,20.4c-1.8,1.8-2.5,3.2-1.4,5.9c3.5,8.7,0.3,18.6-7.7,23.6c-7.9,5-18.2,3.8-24.8-2.9\n",
       "                    c-6.4-6.4-7.4-16.2-2.5-24.3c4.9-7.8,14.5-11,23.1-7.8c3,1.1,4.7,0.5,6.9-1.7C91.7,98.4,98,92.3,104.2,86c1.6-1.6,4.1-2.7,2.6-6.2\n",
       "                    c-1.4-3.3-3.8-2.5-6.2-2.6C99.8,77.2,98.9,77.2,97.3,77.2z M72.1,29.7c5.5,0.1,9.9-4.3,10-9.8c0-0.1,0-0.2,0-0.3\n",
       "                    C81.8,14,77,9.8,71.5,10.2c-5,0.3-9,4.2-9.3,9.2c-0.2,5.5,4,10.1,9.5,10.3C71.8,29.7,72,29.7,72.1,29.7z M72.3,62.3\n",
       "                    c-5.4-0.1-9.9,4.2-10.1,9.7c0,0.2,0,0.3,0,0.5c0.2,5.4,4.5,9.7,9.9,10c5.1,0.1,9.9-4.7,10.1-9.8c0.2-5.5-4-10-9.5-10.3\n",
       "                    C72.6,62.3,72.4,62.3,72.3,62.3z M115,72.5c0.1,5.4,4.5,9.7,9.8,9.9c5.6-0.2,10-4.8,10-10.4c-0.2-5.4-4.6-9.7-10-9.7\n",
       "                    c-5.3-0.1-9.8,4.2-9.9,9.5C115,72.1,115,72.3,115,72.5z M19.5,62.3c-5.4,0.1-9.8,4.4-10,9.8c-0.1,5.1,5.2,10.4,10.2,10.3\n",
       "                    c5.6-0.2,10-4.9,9.8-10.5c-0.1-5.4-4.5-9.7-9.9-9.6C19.6,62.3,19.5,62.3,19.5,62.3z M71.8,134.6c5.9,0.2,10.3-3.9,10.4-9.6\n",
       "                    c0.5-5.5-3.6-10.4-9.1-10.8c-5.5-0.5-10.4,3.6-10.8,9.1c0,0.5,0,0.9,0,1.4c-0.2,5.3,4,9.8,9.3,10\n",
       "                    C71.6,134.6,71.7,134.6,71.8,134.6z\"/>\n",
       "            </g>\n",
       "        </svg>\n",
       "        <table>\n",
       "            <tr>\n",
       "                <td style=\"text-align: left\"><b>Python version:</b></td>\n",
       "                <td style=\"text-align: left\"><b>3.7.4</b></td>\n",
       "            </tr>\n",
       "            <tr>\n",
       "                <td style=\"text-align: left\"><b>Ray version:</b></td>\n",
       "                <td style=\"text-align: left\"><b> 2.3.0</b></td>\n",
       "            </tr>\n",
       "            <tr>\n",
       "    <td style=\"text-align: left\"><b>Dashboard:</b></td>\n",
       "    <td style=\"text-align: left\"><b><a href=\"http://127.0.0.1:8265\" target=\"_blank\">http://127.0.0.1:8265</a></b></td>\n",
       "</tr>\n",
       "\n",
       "        </table>\n",
       "    </div>\n",
       "</div>\n"
      ],
      "text/plain": [
       "RayContext(dashboard_url='127.0.0.1:8265', python_version='3.7.4', ray_version='2.3.0', ray_commit='cf7a56b4b0b648c324722df7c99c168e92ff0b45', address_info={'node_ip_address': '127.0.0.1', 'raylet_ip_address': '127.0.0.1', 'redis_address': None, 'object_store_address': 'tcp://127.0.0.1:61723', 'raylet_socket_name': 'tcp://127.0.0.1:61002', 'webui_url': '127.0.0.1:8265', 'session_dir': 'C:\\\\Users\\\\Octavio\\\\AppData\\\\Local\\\\Temp\\\\ray\\\\session_2023-03-11_14-49-22_469203_7780', 'metrics_export_port': 65129, 'gcs_address': '127.0.0.1:63047', 'address': '127.0.0.1:63047', 'dashboard_agent_listen_port': 52365, 'node_id': '06948775fe4e661b2fca97db574d74753a603c5cb80aa087df048a8e'})"
      ]
     },
     "execution_count": 6,
     "metadata": {},
     "output_type": "execute_result"
    }
   ],
   "source": [
    "ray.shutdown()\n",
    "#ray.init(ignore_reinit_error=False)\n",
    "ray.init()"
   ]
  },
  {
   "cell_type": "code",
   "execution_count": 46,
   "id": "215369b0",
   "metadata": {
    "scrolled": true
   },
   "outputs": [
    {
     "name": "stderr",
     "output_type": "stream",
     "text": [
      "2023-03-11 15:16:03,628\tWARNING deprecation.py:51 -- DeprecationWarning: `algo = Algorithm(env='<class '__main__.CSTREnv'>', ...)` has been deprecated. Use `algo = AlgorithmConfig().environment('<class '__main__.CSTREnv'>').build()` instead. This will raise an error in the future!\n"
     ]
    },
    {
     "name": "stdout",
     "output_type": "stream",
     "text": [
      "G:\\Projetos Python\\DRL Bonsai\\RLLib\\cstr/models/cstr_rllib_model_transition\n"
     ]
    },
    {
     "name": "stderr",
     "output_type": "stream",
     "text": [
      "\u001b[2m\u001b[36m(RolloutWorker pid=5256)\u001b[0m c:\\users\\octavio\\appdata\\local\\programs\\python\\python37\\lib\\site-packages\\gymnasium\\spaces\\box.py:127: UserWarning: \u001b[33mWARN: Box bound precision lowered by casting to float32\u001b[0m\n",
      "\u001b[2m\u001b[36m(RolloutWorker pid=5256)\u001b[0m   logger.warn(f\"Box bound precision lowered by casting to {self.dtype}\")\n",
      "\u001b[2m\u001b[36m(RolloutWorker pid=5256)\u001b[0m 2023-03-11 15:16:10,543\tWARNING utils.py:166 -- `config.auto_wrap_old_gym_envs` is activated AND you seem to have provided an old gym-API environment. RLlib will therefore try to auto-fix the following error. However, please consider switching over to the new `gymnasium` APIs:\n",
      "\u001b[2m\u001b[36m(RolloutWorker pid=5256)\u001b[0m Your environment ({}) does not abide to the new gymnasium-style API!\n",
      "\u001b[2m\u001b[36m(RolloutWorker pid=5256)\u001b[0m From Ray 2.3 on, RLlib only supports the new (gym>=0.26 or gymnasium) Env APIs.\n",
      "\u001b[2m\u001b[36m(RolloutWorker pid=5256)\u001b[0m {}\n",
      "\u001b[2m\u001b[36m(RolloutWorker pid=5256)\u001b[0m Learn more about the most important changes here:\n",
      "\u001b[2m\u001b[36m(RolloutWorker pid=5256)\u001b[0m https://github.com/openai/gym and here: https://github.com/Farama-Foundation/Gymnasium\n",
      "\u001b[2m\u001b[36m(RolloutWorker pid=5256)\u001b[0m \n",
      "\u001b[2m\u001b[36m(RolloutWorker pid=5256)\u001b[0m In order to fix this problem, do the following:\n",
      "\u001b[2m\u001b[36m(RolloutWorker pid=5256)\u001b[0m \n",
      "\u001b[2m\u001b[36m(RolloutWorker pid=5256)\u001b[0m 1) Run `pip install gymnasium` on your command line.\n",
      "\u001b[2m\u001b[36m(RolloutWorker pid=5256)\u001b[0m 2) Change all your import statements in your code from\n",
      "\u001b[2m\u001b[36m(RolloutWorker pid=5256)\u001b[0m    `import gym` -> `import gymnasium as gym` OR\n",
      "\u001b[2m\u001b[36m(RolloutWorker pid=5256)\u001b[0m    `from gym.space import Discrete` -> `from gymnasium.spaces import Discrete`\n",
      "\u001b[2m\u001b[36m(RolloutWorker pid=5256)\u001b[0m \n",
      "\u001b[2m\u001b[36m(RolloutWorker pid=5256)\u001b[0m For your custom (single agent) gym.Env classes:\n",
      "\u001b[2m\u001b[36m(RolloutWorker pid=5256)\u001b[0m 3.1) Either wrap your old Env class via the provided `from gymnasium.wrappers import\n",
      "\u001b[2m\u001b[36m(RolloutWorker pid=5256)\u001b[0m      EnvCompatibility` wrapper class.\n",
      "\u001b[2m\u001b[36m(RolloutWorker pid=5256)\u001b[0m 3.2) Alternatively to 3.1:\n",
      "\u001b[2m\u001b[36m(RolloutWorker pid=5256)\u001b[0m  - Change your `reset()` method to have the call signature 'def reset(self, *,\n",
      "\u001b[2m\u001b[36m(RolloutWorker pid=5256)\u001b[0m    seed=None, options=None)'\n",
      "\u001b[2m\u001b[36m(RolloutWorker pid=5256)\u001b[0m  - Return an additional info dict (empty dict should be fine) from your `reset()`\n",
      "\u001b[2m\u001b[36m(RolloutWorker pid=5256)\u001b[0m    method.\n",
      "\u001b[2m\u001b[36m(RolloutWorker pid=5256)\u001b[0m  - Return an additional `truncated` flag from your `step()` method (between `done` and\n",
      "\u001b[2m\u001b[36m(RolloutWorker pid=5256)\u001b[0m    `info`). This flag should indicate, whether the episode was terminated prematurely\n",
      "\u001b[2m\u001b[36m(RolloutWorker pid=5256)\u001b[0m    due to some time constraint or other kind of horizon setting.\n",
      "\u001b[2m\u001b[36m(RolloutWorker pid=5256)\u001b[0m \n",
      "\u001b[2m\u001b[36m(RolloutWorker pid=5256)\u001b[0m For your custom RLlib `MultiAgentEnv` classes:\n",
      "\u001b[2m\u001b[36m(RolloutWorker pid=5256)\u001b[0m 4.1) Either wrap your old MultiAgentEnv via the provided\n",
      "\u001b[2m\u001b[36m(RolloutWorker pid=5256)\u001b[0m      `from ray.rllib.env.wrappers.multi_agent_env_compatibility import\n",
      "\u001b[2m\u001b[36m(RolloutWorker pid=5256)\u001b[0m      MultiAgentEnvCompatibility` wrapper class.\n",
      "\u001b[2m\u001b[36m(RolloutWorker pid=5256)\u001b[0m 4.2) Alternatively to 4.1:\n",
      "\u001b[2m\u001b[36m(RolloutWorker pid=5256)\u001b[0m  - Change your `reset()` method to have the call signature\n",
      "\u001b[2m\u001b[36m(RolloutWorker pid=5256)\u001b[0m    'def reset(self, *, seed=None, options=None)'\n",
      "\u001b[2m\u001b[36m(RolloutWorker pid=5256)\u001b[0m  - Return an additional per-agent info dict (empty dict should be fine) from your\n",
      "\u001b[2m\u001b[36m(RolloutWorker pid=5256)\u001b[0m    `reset()` method.\n",
      "\u001b[2m\u001b[36m(RolloutWorker pid=5256)\u001b[0m  - Rename `dones` into `terminateds` and only set this to True, if the episode is really\n",
      "\u001b[2m\u001b[36m(RolloutWorker pid=5256)\u001b[0m    done (as opposed to has been terminated prematurely due to some horizon/time-limit\n",
      "\u001b[2m\u001b[36m(RolloutWorker pid=5256)\u001b[0m    setting).\n",
      "\u001b[2m\u001b[36m(RolloutWorker pid=5256)\u001b[0m  - Return an additional `truncateds` per-agent dictionary flag from your `step()`\n",
      "\u001b[2m\u001b[36m(RolloutWorker pid=5256)\u001b[0m    method, including the `__all__` key (100% analogous to your `dones/terminateds`\n",
      "\u001b[2m\u001b[36m(RolloutWorker pid=5256)\u001b[0m    per-agent dict).\n",
      "\u001b[2m\u001b[36m(RolloutWorker pid=5256)\u001b[0m    Return this new `truncateds` dict between `dones/terminateds` and `infos`. This\n",
      "\u001b[2m\u001b[36m(RolloutWorker pid=5256)\u001b[0m    flag should indicate, whether the episode (for some agent or all agents) was\n",
      "\u001b[2m\u001b[36m(RolloutWorker pid=5256)\u001b[0m    terminated prematurely due to some time constraint or other kind of horizon setting.\n",
      "\u001b[2m\u001b[36m(RolloutWorker pid=5256)\u001b[0m \n",
      "\u001b[2m\u001b[36m(RolloutWorker pid=5256)\u001b[0m 2023-03-11 15:16:10,546\tWARNING env.py:157 -- Your env doesn't have a .spec.max_episode_steps attribute. Your horizon will default to infinity, and your environment will not be reset.\n",
      "\u001b[2m\u001b[36m(RolloutWorker pid=5256)\u001b[0m 2023-03-11 15:16:10,546\tWARNING env.py:167 -- Your env reset() method appears to take 'seed' or 'return_info' arguments. Note that these are not yet supported in RLlib. Seeding will take place using 'env.seed()' and the info dict will not be returned from reset.\n",
      "\u001b[2m\u001b[36m(RolloutWorker pid=5256)\u001b[0m c:\\users\\octavio\\appdata\\local\\programs\\python\\python37\\lib\\site-packages\\ray\\_private\\workers\\default_worker.py:134: DeprecationWarning: setting an array element with a sequence. This was supported in some cases where the elements are arrays with a single element. For example `np.array([1, np.array([2])], dtype=int)`. In the future this will raise the same ValueError as `np.array([1, [2]], dtype=int)`.\n",
      "\u001b[2m\u001b[36m(RolloutWorker pid=5256)\u001b[0m   )\n",
      "\u001b[2m\u001b[36m(RolloutWorker pid=5256)\u001b[0m WARNING: Logging before flag parsing goes to stderr.\n",
      "\u001b[2m\u001b[36m(RolloutWorker pid=5256)\u001b[0m W0311 15:16:10.560623 16736 deprecation.py:506] From c:\\users\\octavio\\appdata\\local\\programs\\python\\python37\\lib\\site-packages\\tensorflow_core\\python\\ops\\resource_variable_ops.py:1630: calling BaseResourceVariable.__init__ (from tensorflow.python.ops.resource_variable_ops) with constraint is deprecated and will be removed in a future version.\n",
      "\u001b[2m\u001b[36m(RolloutWorker pid=5256)\u001b[0m Instructions for updating:\n",
      "\u001b[2m\u001b[36m(RolloutWorker pid=5256)\u001b[0m If using Keras pass *_constraint arguments to layers.\n",
      "\u001b[2m\u001b[36m(RolloutWorker pid=3516)\u001b[0m c:\\users\\octavio\\appdata\\local\\programs\\python\\python37\\lib\\site-packages\\gymnasium\\spaces\\box.py:127: UserWarning: \u001b[33mWARN: Box bound precision lowered by casting to float32\u001b[0m\n",
      "\u001b[2m\u001b[36m(RolloutWorker pid=3516)\u001b[0m   logger.warn(f\"Box bound precision lowered by casting to {self.dtype}\")\n",
      "\u001b[2m\u001b[36m(RolloutWorker pid=3516)\u001b[0m c:\\users\\octavio\\appdata\\local\\programs\\python\\python37\\lib\\site-packages\\ray\\_private\\workers\\default_worker.py:134: DeprecationWarning: setting an array element with a sequence. This was supported in some cases where the elements are arrays with a single element. For example `np.array([1, np.array([2])], dtype=int)`. In the future this will raise the same ValueError as `np.array([1, [2]], dtype=int)`.\n",
      "\u001b[2m\u001b[36m(RolloutWorker pid=3516)\u001b[0m   )\n",
      "\u001b[2m\u001b[36m(RolloutWorker pid=3516)\u001b[0m WARNING: Logging before flag parsing goes to stderr.\n",
      "\u001b[2m\u001b[36m(RolloutWorker pid=3516)\u001b[0m W0311 15:16:10.559619  2512 deprecation.py:506] From c:\\users\\octavio\\appdata\\local\\programs\\python\\python37\\lib\\site-packages\\tensorflow_core\\python\\ops\\resource_variable_ops.py:1630: calling BaseResourceVariable.__init__ (from tensorflow.python.ops.resource_variable_ops) with constraint is deprecated and will be removed in a future version.\n",
      "\u001b[2m\u001b[36m(RolloutWorker pid=3516)\u001b[0m Instructions for updating:\n",
      "\u001b[2m\u001b[36m(RolloutWorker pid=3516)\u001b[0m If using Keras pass *_constraint arguments to layers.\n",
      "\u001b[2m\u001b[36m(RolloutWorker pid=5256)\u001b[0m W0311 15:16:10.993596 16736 deprecation.py:323] From c:\\users\\octavio\\appdata\\local\\programs\\python\\python37\\lib\\site-packages\\tensorflow_core\\python\\ops\\math_grad.py:1424: where (from tensorflow.python.ops.array_ops) is deprecated and will be removed in a future version.\n",
      "\u001b[2m\u001b[36m(RolloutWorker pid=5256)\u001b[0m Instructions for updating:\n",
      "\u001b[2m\u001b[36m(RolloutWorker pid=5256)\u001b[0m Use tf.where in 2.0, which has the same broadcast rule as np.where\n",
      "\u001b[2m\u001b[36m(RolloutWorker pid=3516)\u001b[0m W0311 15:16:11.003594  2512 deprecation.py:323] From c:\\users\\octavio\\appdata\\local\\programs\\python\\python37\\lib\\site-packages\\tensorflow_core\\python\\ops\\math_grad.py:1424: where (from tensorflow.python.ops.array_ops) is deprecated and will be removed in a future version.\n",
      "\u001b[2m\u001b[36m(RolloutWorker pid=3516)\u001b[0m Instructions for updating:\n",
      "\u001b[2m\u001b[36m(RolloutWorker pid=3516)\u001b[0m Use tf.where in 2.0, which has the same broadcast rule as np.where\n"
     ]
    },
    {
     "name": "stderr",
     "output_type": "stream",
     "text": [
      "2023-03-11 15:16:12,421\tWARNING util.py:67 -- Install gputil for GPU system monitoring.\n",
      "\u001b[2m\u001b[36m(RolloutWorker pid=5256)\u001b[0m c:\\users\\octavio\\appdata\\local\\programs\\python\\python37\\lib\\site-packages\\ray\\_private\\workers\\default_worker.py:134: DeprecationWarning: setting an array element with a sequence. This was supported in some cases where the elements are arrays with a single element. For example `np.array([1, np.array([2])], dtype=int)`. In the future this will raise the same ValueError as `np.array([1, [2]], dtype=int)`.\n",
      "\u001b[2m\u001b[36m(RolloutWorker pid=5256)\u001b[0m   )\n",
      "\u001b[2m\u001b[36m(RolloutWorker pid=3516)\u001b[0m c:\\users\\octavio\\appdata\\local\\programs\\python\\python37\\lib\\site-packages\\ray\\_private\\workers\\default_worker.py:134: DeprecationWarning: setting an array element with a sequence. This was supported in some cases where the elements are arrays with a single element. For example `np.array([1, np.array([2])], dtype=int)`. In the future this will raise the same ValueError as `np.array([1, [2]], dtype=int)`.\n",
      "\u001b[2m\u001b[36m(RolloutWorker pid=3516)\u001b[0m   )\n",
      "2023-03-11 15:16:13,601\tERROR actor_manager.py:497 -- Ray error, taking actor 1 out of service. \u001b[36mray::RolloutWorker.apply()\u001b[39m (pid=5256, ip=127.0.0.1, repr=<ray.rllib.evaluation.rollout_worker.RolloutWorker object at 0x00000125F9530D08>)\n",
      "  File \"python\\ray\\_raylet.pyx\", line 857, in ray._raylet.execute_task\n",
      "  File \"python\\ray\\_raylet.pyx\", line 861, in ray._raylet.execute_task\n",
      "  File \"python\\ray\\_raylet.pyx\", line 803, in ray._raylet.execute_task.function_executor\n",
      "  File \"c:\\users\\octavio\\appdata\\local\\programs\\python\\python37\\lib\\site-packages\\ray\\_private\\function_manager.py\", line 674, in actor_method_executor\n",
      "    return method(__ray_actor, *args, **kwargs)\n",
      "  File \"c:\\users\\octavio\\appdata\\local\\programs\\python\\python37\\lib\\site-packages\\ray\\util\\tracing\\tracing_helper.py\", line 466, in _resume_span\n",
      "    return method(self, *_args, **_kwargs)\n",
      "  File \"c:\\users\\octavio\\appdata\\local\\programs\\python\\python37\\lib\\site-packages\\ray\\rllib\\utils\\actor_manager.py\", line 183, in apply\n",
      "    raise e\n",
      "  File \"c:\\users\\octavio\\appdata\\local\\programs\\python\\python37\\lib\\site-packages\\ray\\rllib\\utils\\actor_manager.py\", line 174, in apply\n",
      "    return func(self, *args, **kwargs)\n",
      "  File \"c:\\users\\octavio\\appdata\\local\\programs\\python\\python37\\lib\\site-packages\\ray\\rllib\\execution\\rollout_ops.py\", line 86, in <lambda>\n",
      "    lambda w: w.sample(), local_worker=False, healthy_only=True\n",
      "  File \"c:\\users\\octavio\\appdata\\local\\programs\\python\\python37\\lib\\site-packages\\ray\\util\\tracing\\tracing_helper.py\", line 466, in _resume_span\n",
      "    return method(self, *_args, **_kwargs)\n",
      "  File \"c:\\users\\octavio\\appdata\\local\\programs\\python\\python37\\lib\\site-packages\\ray\\rllib\\evaluation\\rollout_worker.py\", line 914, in sample\n",
      "    batches = [self.input_reader.next()]\n",
      "  File \"c:\\users\\octavio\\appdata\\local\\programs\\python\\python37\\lib\\site-packages\\ray\\rllib\\evaluation\\sampler.py\", line 92, in next\n",
      "    batches = [self.get_data()]\n",
      "  File \"c:\\users\\octavio\\appdata\\local\\programs\\python\\python37\\lib\\site-packages\\ray\\rllib\\evaluation\\sampler.py\", line 277, in get_data\n",
      "    item = next(self._env_runner)\n",
      "  File \"c:\\users\\octavio\\appdata\\local\\programs\\python\\python37\\lib\\site-packages\\ray\\rllib\\evaluation\\env_runner_v2.py\", line 323, in run\n",
      "    outputs = self.step()\n",
      "  File \"c:\\users\\octavio\\appdata\\local\\programs\\python\\python37\\lib\\site-packages\\ray\\rllib\\evaluation\\env_runner_v2.py\", line 354, in step\n",
      "    infos=infos,\n",
      "  File \"c:\\users\\octavio\\appdata\\local\\programs\\python\\python37\\lib\\site-packages\\ray\\rllib\\evaluation\\env_runner_v2.py\", line 616, in _process_observations\n",
      "    processed = policy.agent_connectors(acd_list)\n",
      "  File \"c:\\users\\octavio\\appdata\\local\\programs\\python\\python37\\lib\\site-packages\\ray\\rllib\\connectors\\agent\\pipeline.py\", line 41, in __call__\n",
      "    ret = c(ret)\n",
      "  File \"c:\\users\\octavio\\appdata\\local\\programs\\python\\python37\\lib\\site-packages\\ray\\rllib\\connectors\\connector.py\", line 254, in __call__\n",
      "    return [self.transform(d) for d in acd_list]\n",
      "  File \"c:\\users\\octavio\\appdata\\local\\programs\\python\\python37\\lib\\site-packages\\ray\\rllib\\connectors\\connector.py\", line 254, in <listcomp>\n",
      "    return [self.transform(d) for d in acd_list]\n",
      "  File \"c:\\users\\octavio\\appdata\\local\\programs\\python\\python37\\lib\\site-packages\\ray\\rllib\\connectors\\agent\\obs_preproc.py\", line 59, in transform\n",
      "    d[SampleBatch.NEXT_OBS]\n",
      "  File \"c:\\users\\octavio\\appdata\\local\\programs\\python\\python37\\lib\\site-packages\\ray\\rllib\\models\\preprocessors.py\", line 206, in transform\n",
      "    self.check_shape(observation)\n",
      "  File \"c:\\users\\octavio\\appdata\\local\\programs\\python\\python37\\lib\\site-packages\\ray\\rllib\\models\\preprocessors.py\", line 80, in check_shape\n",
      "    self._obs_space,\n",
      "ValueError: Observation ([272.2786   176.95445    9.906908   2.       373.1311  ] dtype=float32) outside given space (Box([200. 200.   0.   0. 200.], [500. 500.  12.  12. 500.], (5,), float32))!\n",
      "2023-03-11 15:16:13,603\tERROR actor_manager.py:497 -- Ray error, taking actor 2 out of service. \u001b[36mray::RolloutWorker.apply()\u001b[39m (pid=3516, ip=127.0.0.1, repr=<ray.rllib.evaluation.rollout_worker.RolloutWorker object at 0x00000198EACEF188>)\n",
      "  File \"python\\ray\\_raylet.pyx\", line 857, in ray._raylet.execute_task\n",
      "  File \"python\\ray\\_raylet.pyx\", line 861, in ray._raylet.execute_task\n",
      "  File \"python\\ray\\_raylet.pyx\", line 803, in ray._raylet.execute_task.function_executor\n",
      "  File \"c:\\users\\octavio\\appdata\\local\\programs\\python\\python37\\lib\\site-packages\\ray\\_private\\function_manager.py\", line 674, in actor_method_executor\n",
      "    return method(__ray_actor, *args, **kwargs)\n",
      "  File \"c:\\users\\octavio\\appdata\\local\\programs\\python\\python37\\lib\\site-packages\\ray\\util\\tracing\\tracing_helper.py\", line 466, in _resume_span\n",
      "    return method(self, *_args, **_kwargs)\n",
      "  File \"c:\\users\\octavio\\appdata\\local\\programs\\python\\python37\\lib\\site-packages\\ray\\rllib\\utils\\actor_manager.py\", line 183, in apply\n",
      "    raise e\n",
      "  File \"c:\\users\\octavio\\appdata\\local\\programs\\python\\python37\\lib\\site-packages\\ray\\rllib\\utils\\actor_manager.py\", line 174, in apply\n",
      "    return func(self, *args, **kwargs)\n",
      "  File \"c:\\users\\octavio\\appdata\\local\\programs\\python\\python37\\lib\\site-packages\\ray\\rllib\\execution\\rollout_ops.py\", line 86, in <lambda>\n",
      "    lambda w: w.sample(), local_worker=False, healthy_only=True\n",
      "  File \"c:\\users\\octavio\\appdata\\local\\programs\\python\\python37\\lib\\site-packages\\ray\\util\\tracing\\tracing_helper.py\", line 466, in _resume_span\n",
      "    return method(self, *_args, **_kwargs)\n",
      "  File \"c:\\users\\octavio\\appdata\\local\\programs\\python\\python37\\lib\\site-packages\\ray\\rllib\\evaluation\\rollout_worker.py\", line 914, in sample\n",
      "    batches = [self.input_reader.next()]\n",
      "  File \"c:\\users\\octavio\\appdata\\local\\programs\\python\\python37\\lib\\site-packages\\ray\\rllib\\evaluation\\sampler.py\", line 92, in next\n",
      "    batches = [self.get_data()]\n",
      "  File \"c:\\users\\octavio\\appdata\\local\\programs\\python\\python37\\lib\\site-packages\\ray\\rllib\\evaluation\\sampler.py\", line 277, in get_data\n",
      "    item = next(self._env_runner)\n",
      "  File \"c:\\users\\octavio\\appdata\\local\\programs\\python\\python37\\lib\\site-packages\\ray\\rllib\\evaluation\\env_runner_v2.py\", line 323, in run\n",
      "    outputs = self.step()\n",
      "  File \"c:\\users\\octavio\\appdata\\local\\programs\\python\\python37\\lib\\site-packages\\ray\\rllib\\evaluation\\env_runner_v2.py\", line 354, in step\n",
      "    infos=infos,\n",
      "  File \"c:\\users\\octavio\\appdata\\local\\programs\\python\\python37\\lib\\site-packages\\ray\\rllib\\evaluation\\env_runner_v2.py\", line 616, in _process_observations\n",
      "    processed = policy.agent_connectors(acd_list)\n",
      "  File \"c:\\users\\octavio\\appdata\\local\\programs\\python\\python37\\lib\\site-packages\\ray\\rllib\\connectors\\agent\\pipeline.py\", line 41, in __call__\n",
      "    ret = c(ret)\n",
      "  File \"c:\\users\\octavio\\appdata\\local\\programs\\python\\python37\\lib\\site-packages\\ray\\rllib\\connectors\\connector.py\", line 254, in __call__\n",
      "    return [self.transform(d) for d in acd_list]\n",
      "  File \"c:\\users\\octavio\\appdata\\local\\programs\\python\\python37\\lib\\site-packages\\ray\\rllib\\connectors\\connector.py\", line 254, in <listcomp>\n",
      "    return [self.transform(d) for d in acd_list]\n",
      "  File \"c:\\users\\octavio\\appdata\\local\\programs\\python\\python37\\lib\\site-packages\\ray\\rllib\\connectors\\agent\\obs_preproc.py\", line 59, in transform\n",
      "    d[SampleBatch.NEXT_OBS]\n",
      "  File \"c:\\users\\octavio\\appdata\\local\\programs\\python\\python37\\lib\\site-packages\\ray\\rllib\\models\\preprocessors.py\", line 206, in transform\n",
      "    self.check_shape(observation)\n",
      "  File \"c:\\users\\octavio\\appdata\\local\\programs\\python\\python37\\lib\\site-packages\\ray\\rllib\\models\\preprocessors.py\", line 80, in check_shape\n",
      "    self._obs_space,\n",
      "ValueError: Observation ([265.42398   173.45435     9.93204     4.7796154 346.95538  ] dtype=float32) outside given space (Box([200. 200.   0.   0. 200.], [500. 500.  12.  12. 500.], (5,), float32))!\n"
     ]
    },
    {
     "ename": "RayTaskError(ValueError)",
     "evalue": "\u001b[36mray::RolloutWorker.apply()\u001b[39m (pid=5256, ip=127.0.0.1, repr=<ray.rllib.evaluation.rollout_worker.RolloutWorker object at 0x00000125F9530D08>)\n  File \"python\\ray\\_raylet.pyx\", line 857, in ray._raylet.execute_task\n  File \"python\\ray\\_raylet.pyx\", line 861, in ray._raylet.execute_task\n  File \"python\\ray\\_raylet.pyx\", line 803, in ray._raylet.execute_task.function_executor\n  File \"c:\\users\\octavio\\appdata\\local\\programs\\python\\python37\\lib\\site-packages\\ray\\_private\\function_manager.py\", line 674, in actor_method_executor\n    return method(__ray_actor, *args, **kwargs)\n  File \"c:\\users\\octavio\\appdata\\local\\programs\\python\\python37\\lib\\site-packages\\ray\\util\\tracing\\tracing_helper.py\", line 466, in _resume_span\n    return method(self, *_args, **_kwargs)\n  File \"c:\\users\\octavio\\appdata\\local\\programs\\python\\python37\\lib\\site-packages\\ray\\rllib\\utils\\actor_manager.py\", line 183, in apply\n    raise e\n  File \"c:\\users\\octavio\\appdata\\local\\programs\\python\\python37\\lib\\site-packages\\ray\\rllib\\utils\\actor_manager.py\", line 174, in apply\n    return func(self, *args, **kwargs)\n  File \"c:\\users\\octavio\\appdata\\local\\programs\\python\\python37\\lib\\site-packages\\ray\\rllib\\execution\\rollout_ops.py\", line 86, in <lambda>\n    lambda w: w.sample(), local_worker=False, healthy_only=True\n  File \"c:\\users\\octavio\\appdata\\local\\programs\\python\\python37\\lib\\site-packages\\ray\\util\\tracing\\tracing_helper.py\", line 466, in _resume_span\n    return method(self, *_args, **_kwargs)\n  File \"c:\\users\\octavio\\appdata\\local\\programs\\python\\python37\\lib\\site-packages\\ray\\rllib\\evaluation\\rollout_worker.py\", line 914, in sample\n    batches = [self.input_reader.next()]\n  File \"c:\\users\\octavio\\appdata\\local\\programs\\python\\python37\\lib\\site-packages\\ray\\rllib\\evaluation\\sampler.py\", line 92, in next\n    batches = [self.get_data()]\n  File \"c:\\users\\octavio\\appdata\\local\\programs\\python\\python37\\lib\\site-packages\\ray\\rllib\\evaluation\\sampler.py\", line 277, in get_data\n    item = next(self._env_runner)\n  File \"c:\\users\\octavio\\appdata\\local\\programs\\python\\python37\\lib\\site-packages\\ray\\rllib\\evaluation\\env_runner_v2.py\", line 323, in run\n    outputs = self.step()\n  File \"c:\\users\\octavio\\appdata\\local\\programs\\python\\python37\\lib\\site-packages\\ray\\rllib\\evaluation\\env_runner_v2.py\", line 354, in step\n    infos=infos,\n  File \"c:\\users\\octavio\\appdata\\local\\programs\\python\\python37\\lib\\site-packages\\ray\\rllib\\evaluation\\env_runner_v2.py\", line 616, in _process_observations\n    processed = policy.agent_connectors(acd_list)\n  File \"c:\\users\\octavio\\appdata\\local\\programs\\python\\python37\\lib\\site-packages\\ray\\rllib\\connectors\\agent\\pipeline.py\", line 41, in __call__\n    ret = c(ret)\n  File \"c:\\users\\octavio\\appdata\\local\\programs\\python\\python37\\lib\\site-packages\\ray\\rllib\\connectors\\connector.py\", line 254, in __call__\n    return [self.transform(d) for d in acd_list]\n  File \"c:\\users\\octavio\\appdata\\local\\programs\\python\\python37\\lib\\site-packages\\ray\\rllib\\connectors\\connector.py\", line 254, in <listcomp>\n    return [self.transform(d) for d in acd_list]\n  File \"c:\\users\\octavio\\appdata\\local\\programs\\python\\python37\\lib\\site-packages\\ray\\rllib\\connectors\\agent\\obs_preproc.py\", line 59, in transform\n    d[SampleBatch.NEXT_OBS]\n  File \"c:\\users\\octavio\\appdata\\local\\programs\\python\\python37\\lib\\site-packages\\ray\\rllib\\models\\preprocessors.py\", line 206, in transform\n    self.check_shape(observation)\n  File \"c:\\users\\octavio\\appdata\\local\\programs\\python\\python37\\lib\\site-packages\\ray\\rllib\\models\\preprocessors.py\", line 80, in check_shape\n    self._obs_space,\nValueError: Observation ([272.2786   176.95445    9.906908   2.       373.1311  ] dtype=float32) outside given space (Box([200. 200.   0.   0. 200.], [500. 500.  12.  12. 500.], (5,), float32))!",
     "output_type": "error",
     "traceback": [
      "\u001b[1;31m---------------------------------------------------------------------------\u001b[0m",
      "\u001b[1;31mRayTaskError(ValueError)\u001b[0m                  Traceback (most recent call last)",
      "\u001b[1;32m<ipython-input-46-5deba6314ced>\u001b[0m in \u001b[0;36m<module>\u001b[1;34m\u001b[0m\n\u001b[0;32m      1\u001b[0m \u001b[1;31m#Train the transition model\u001b[0m\u001b[1;33m\u001b[0m\u001b[1;33m\u001b[0m\u001b[1;33m\u001b[0m\u001b[0m\n\u001b[1;32m----> 2\u001b[1;33m \u001b[0mtrans_model\u001b[0m \u001b[1;33m=\u001b[0m \u001b[0mtrain_cstr_model\u001b[0m\u001b[1;33m(\u001b[0m\u001b[1;34m'transition'\u001b[0m\u001b[1;33m)\u001b[0m\u001b[1;33m\u001b[0m\u001b[1;33m\u001b[0m\u001b[0m\n\u001b[0m",
      "\u001b[1;32m<ipython-input-5-c60ead622144>\u001b[0m in \u001b[0;36mtrain_cstr_model\u001b[1;34m(concept, selector, model)\u001b[0m\n\u001b[0;32m     28\u001b[0m     \u001b[0ms\u001b[0m \u001b[1;33m=\u001b[0m \u001b[1;34m\"{:3d} reward {:6.2f} < {:6.2f} < {:6.2f} len {:6.2f}\"\u001b[0m\u001b[1;33m\u001b[0m\u001b[1;33m\u001b[0m\u001b[0m\n\u001b[0;32m     29\u001b[0m     \u001b[1;32mfor\u001b[0m \u001b[0mn\u001b[0m \u001b[1;32min\u001b[0m \u001b[0mrange\u001b[0m\u001b[1;33m(\u001b[0m\u001b[1;36m20\u001b[0m\u001b[1;33m)\u001b[0m\u001b[1;33m:\u001b[0m\u001b[1;33m\u001b[0m\u001b[1;33m\u001b[0m\u001b[0m\n\u001b[1;32m---> 30\u001b[1;33m         \u001b[0mresult\u001b[0m \u001b[1;33m=\u001b[0m \u001b[0malgo\u001b[0m\u001b[1;33m.\u001b[0m\u001b[0mtrain\u001b[0m\u001b[1;33m(\u001b[0m\u001b[1;33m)\u001b[0m\u001b[1;33m\u001b[0m\u001b[1;33m\u001b[0m\u001b[0m\n\u001b[0m\u001b[0;32m     31\u001b[0m         \u001b[1;31m#print(result)\u001b[0m\u001b[1;33m\u001b[0m\u001b[1;33m\u001b[0m\u001b[1;33m\u001b[0m\u001b[0m\n\u001b[0;32m     32\u001b[0m \u001b[1;33m\u001b[0m\u001b[0m\n",
      "\u001b[1;32mc:\\users\\octavio\\appdata\\local\\programs\\python\\python37\\lib\\site-packages\\ray\\tune\\trainable\\trainable.py\u001b[0m in \u001b[0;36mtrain\u001b[1;34m(self)\u001b[0m\n\u001b[0;32m    366\u001b[0m         \u001b[1;32mexcept\u001b[0m \u001b[0mException\u001b[0m \u001b[1;32mas\u001b[0m \u001b[0me\u001b[0m\u001b[1;33m:\u001b[0m\u001b[1;33m\u001b[0m\u001b[1;33m\u001b[0m\u001b[0m\n\u001b[0;32m    367\u001b[0m             \u001b[0mskipped\u001b[0m \u001b[1;33m=\u001b[0m \u001b[0mskip_exceptions\u001b[0m\u001b[1;33m(\u001b[0m\u001b[0me\u001b[0m\u001b[1;33m)\u001b[0m\u001b[1;33m\u001b[0m\u001b[1;33m\u001b[0m\u001b[0m\n\u001b[1;32m--> 368\u001b[1;33m             \u001b[1;32mraise\u001b[0m \u001b[0mskipped\u001b[0m \u001b[1;32mfrom\u001b[0m \u001b[0mexception_cause\u001b[0m\u001b[1;33m(\u001b[0m\u001b[0mskipped\u001b[0m\u001b[1;33m)\u001b[0m\u001b[1;33m\u001b[0m\u001b[1;33m\u001b[0m\u001b[0m\n\u001b[0m\u001b[0;32m    369\u001b[0m \u001b[1;33m\u001b[0m\u001b[0m\n\u001b[0;32m    370\u001b[0m         \u001b[1;32massert\u001b[0m \u001b[0misinstance\u001b[0m\u001b[1;33m(\u001b[0m\u001b[0mresult\u001b[0m\u001b[1;33m,\u001b[0m \u001b[0mdict\u001b[0m\u001b[1;33m)\u001b[0m\u001b[1;33m,\u001b[0m \u001b[1;34m\"step() needs to return a dict.\"\u001b[0m\u001b[1;33m\u001b[0m\u001b[1;33m\u001b[0m\u001b[0m\n",
      "\u001b[1;32mc:\\users\\octavio\\appdata\\local\\programs\\python\\python37\\lib\\site-packages\\ray\\tune\\trainable\\trainable.py\u001b[0m in \u001b[0;36mtrain\u001b[1;34m(self)\u001b[0m\n\u001b[0;32m    363\u001b[0m         \u001b[0mstart\u001b[0m \u001b[1;33m=\u001b[0m \u001b[0mtime\u001b[0m\u001b[1;33m.\u001b[0m\u001b[0mtime\u001b[0m\u001b[1;33m(\u001b[0m\u001b[1;33m)\u001b[0m\u001b[1;33m\u001b[0m\u001b[1;33m\u001b[0m\u001b[0m\n\u001b[0;32m    364\u001b[0m         \u001b[1;32mtry\u001b[0m\u001b[1;33m:\u001b[0m\u001b[1;33m\u001b[0m\u001b[1;33m\u001b[0m\u001b[0m\n\u001b[1;32m--> 365\u001b[1;33m             \u001b[0mresult\u001b[0m \u001b[1;33m=\u001b[0m \u001b[0mself\u001b[0m\u001b[1;33m.\u001b[0m\u001b[0mstep\u001b[0m\u001b[1;33m(\u001b[0m\u001b[1;33m)\u001b[0m\u001b[1;33m\u001b[0m\u001b[1;33m\u001b[0m\u001b[0m\n\u001b[0m\u001b[0;32m    366\u001b[0m         \u001b[1;32mexcept\u001b[0m \u001b[0mException\u001b[0m \u001b[1;32mas\u001b[0m \u001b[0me\u001b[0m\u001b[1;33m:\u001b[0m\u001b[1;33m\u001b[0m\u001b[1;33m\u001b[0m\u001b[0m\n\u001b[0;32m    367\u001b[0m             \u001b[0mskipped\u001b[0m \u001b[1;33m=\u001b[0m \u001b[0mskip_exceptions\u001b[0m\u001b[1;33m(\u001b[0m\u001b[0me\u001b[0m\u001b[1;33m)\u001b[0m\u001b[1;33m\u001b[0m\u001b[1;33m\u001b[0m\u001b[0m\n",
      "\u001b[1;32mc:\\users\\octavio\\appdata\\local\\programs\\python\\python37\\lib\\site-packages\\ray\\rllib\\algorithms\\algorithm.py\u001b[0m in \u001b[0;36mstep\u001b[1;34m(self)\u001b[0m\n\u001b[0;32m    780\u001b[0m         \u001b[1;31m#   evaluate after the training iteration is entirely done.\u001b[0m\u001b[1;33m\u001b[0m\u001b[1;33m\u001b[0m\u001b[1;33m\u001b[0m\u001b[0m\n\u001b[0;32m    781\u001b[0m         \u001b[1;32melse\u001b[0m\u001b[1;33m:\u001b[0m\u001b[1;33m\u001b[0m\u001b[1;33m\u001b[0m\u001b[0m\n\u001b[1;32m--> 782\u001b[1;33m             \u001b[0mresults\u001b[0m\u001b[1;33m,\u001b[0m \u001b[0mtrain_iter_ctx\u001b[0m \u001b[1;33m=\u001b[0m \u001b[0mself\u001b[0m\u001b[1;33m.\u001b[0m\u001b[0m_run_one_training_iteration\u001b[0m\u001b[1;33m(\u001b[0m\u001b[1;33m)\u001b[0m\u001b[1;33m\u001b[0m\u001b[1;33m\u001b[0m\u001b[0m\n\u001b[0m\u001b[0;32m    783\u001b[0m \u001b[1;33m\u001b[0m\u001b[0m\n\u001b[0;32m    784\u001b[0m         \u001b[1;31m# Sequential: Train (already done above), then evaluate.\u001b[0m\u001b[1;33m\u001b[0m\u001b[1;33m\u001b[0m\u001b[1;33m\u001b[0m\u001b[0m\n",
      "\u001b[1;32mc:\\users\\octavio\\appdata\\local\\programs\\python\\python37\\lib\\site-packages\\ray\\rllib\\algorithms\\algorithm.py\u001b[0m in \u001b[0;36m_run_one_training_iteration\u001b[1;34m(self)\u001b[0m\n\u001b[0;32m   2711\u001b[0m                 \u001b[1;32mwith\u001b[0m \u001b[0mself\u001b[0m\u001b[1;33m.\u001b[0m\u001b[0m_timers\u001b[0m\u001b[1;33m[\u001b[0m\u001b[0mTRAINING_ITERATION_TIMER\u001b[0m\u001b[1;33m]\u001b[0m\u001b[1;33m:\u001b[0m\u001b[1;33m\u001b[0m\u001b[1;33m\u001b[0m\u001b[0m\n\u001b[0;32m   2712\u001b[0m                     \u001b[1;32mif\u001b[0m \u001b[0mself\u001b[0m\u001b[1;33m.\u001b[0m\u001b[0mconfig\u001b[0m\u001b[1;33m.\u001b[0m\u001b[0m_disable_execution_plan_api\u001b[0m\u001b[1;33m:\u001b[0m\u001b[1;33m\u001b[0m\u001b[1;33m\u001b[0m\u001b[0m\n\u001b[1;32m-> 2713\u001b[1;33m                         \u001b[0mresults\u001b[0m \u001b[1;33m=\u001b[0m \u001b[0mself\u001b[0m\u001b[1;33m.\u001b[0m\u001b[0mtraining_step\u001b[0m\u001b[1;33m(\u001b[0m\u001b[1;33m)\u001b[0m\u001b[1;33m\u001b[0m\u001b[1;33m\u001b[0m\u001b[0m\n\u001b[0m\u001b[0;32m   2714\u001b[0m                     \u001b[1;32melse\u001b[0m\u001b[1;33m:\u001b[0m\u001b[1;33m\u001b[0m\u001b[1;33m\u001b[0m\u001b[0m\n\u001b[0;32m   2715\u001b[0m                         \u001b[0mresults\u001b[0m \u001b[1;33m=\u001b[0m \u001b[0mnext\u001b[0m\u001b[1;33m(\u001b[0m\u001b[0mself\u001b[0m\u001b[1;33m.\u001b[0m\u001b[0mtrain_exec_impl\u001b[0m\u001b[1;33m)\u001b[0m\u001b[1;33m\u001b[0m\u001b[1;33m\u001b[0m\u001b[0m\n",
      "\u001b[1;32mc:\\users\\octavio\\appdata\\local\\programs\\python\\python37\\lib\\site-packages\\ray\\rllib\\algorithms\\ppo\\ppo.py\u001b[0m in \u001b[0;36mtraining_step\u001b[1;34m(self)\u001b[0m\n\u001b[0;32m    357\u001b[0m         \u001b[1;32melse\u001b[0m\u001b[1;33m:\u001b[0m\u001b[1;33m\u001b[0m\u001b[1;33m\u001b[0m\u001b[0m\n\u001b[0;32m    358\u001b[0m             train_batch = synchronous_parallel_sample(\n\u001b[1;32m--> 359\u001b[1;33m                 \u001b[0mworker_set\u001b[0m\u001b[1;33m=\u001b[0m\u001b[0mself\u001b[0m\u001b[1;33m.\u001b[0m\u001b[0mworkers\u001b[0m\u001b[1;33m,\u001b[0m \u001b[0mmax_env_steps\u001b[0m\u001b[1;33m=\u001b[0m\u001b[0mself\u001b[0m\u001b[1;33m.\u001b[0m\u001b[0mconfig\u001b[0m\u001b[1;33m.\u001b[0m\u001b[0mtrain_batch_size\u001b[0m\u001b[1;33m\u001b[0m\u001b[1;33m\u001b[0m\u001b[0m\n\u001b[0m\u001b[0;32m    360\u001b[0m             )\n\u001b[0;32m    361\u001b[0m         \u001b[0mtrain_batch\u001b[0m \u001b[1;33m=\u001b[0m \u001b[0mtrain_batch\u001b[0m\u001b[1;33m.\u001b[0m\u001b[0mas_multi_agent\u001b[0m\u001b[1;33m(\u001b[0m\u001b[1;33m)\u001b[0m\u001b[1;33m\u001b[0m\u001b[1;33m\u001b[0m\u001b[0m\n",
      "\u001b[1;32mc:\\users\\octavio\\appdata\\local\\programs\\python\\python37\\lib\\site-packages\\ray\\rllib\\execution\\rollout_ops.py\u001b[0m in \u001b[0;36msynchronous_parallel_sample\u001b[1;34m(worker_set, max_agent_steps, max_env_steps, concat)\u001b[0m\n\u001b[0;32m     84\u001b[0m         \u001b[1;32melse\u001b[0m\u001b[1;33m:\u001b[0m\u001b[1;33m\u001b[0m\u001b[1;33m\u001b[0m\u001b[0m\n\u001b[0;32m     85\u001b[0m             sample_batches = worker_set.foreach_worker(\n\u001b[1;32m---> 86\u001b[1;33m                 \u001b[1;32mlambda\u001b[0m \u001b[0mw\u001b[0m\u001b[1;33m:\u001b[0m \u001b[0mw\u001b[0m\u001b[1;33m.\u001b[0m\u001b[0msample\u001b[0m\u001b[1;33m(\u001b[0m\u001b[1;33m)\u001b[0m\u001b[1;33m,\u001b[0m \u001b[0mlocal_worker\u001b[0m\u001b[1;33m=\u001b[0m\u001b[1;32mFalse\u001b[0m\u001b[1;33m,\u001b[0m \u001b[0mhealthy_only\u001b[0m\u001b[1;33m=\u001b[0m\u001b[1;32mTrue\u001b[0m\u001b[1;33m\u001b[0m\u001b[1;33m\u001b[0m\u001b[0m\n\u001b[0m\u001b[0;32m     87\u001b[0m             )\n\u001b[0;32m     88\u001b[0m             \u001b[1;32mif\u001b[0m \u001b[0mworker_set\u001b[0m\u001b[1;33m.\u001b[0m\u001b[0mnum_healthy_remote_workers\u001b[0m\u001b[1;33m(\u001b[0m\u001b[1;33m)\u001b[0m \u001b[1;33m<=\u001b[0m \u001b[1;36m0\u001b[0m\u001b[1;33m:\u001b[0m\u001b[1;33m\u001b[0m\u001b[1;33m\u001b[0m\u001b[0m\n",
      "\u001b[1;32mc:\\users\\octavio\\appdata\\local\\programs\\python\\python37\\lib\\site-packages\\ray\\rllib\\evaluation\\worker_set.py\u001b[0m in \u001b[0;36mforeach_worker\u001b[1;34m(self, func, local_worker, healthy_only, remote_worker_ids, timeout_seconds, return_obj_refs, mark_healthy)\u001b[0m\n\u001b[0;32m    699\u001b[0m         )\n\u001b[0;32m    700\u001b[0m \u001b[1;33m\u001b[0m\u001b[0m\n\u001b[1;32m--> 701\u001b[1;33m         \u001b[0mhandle_remote_call_result_errors\u001b[0m\u001b[1;33m(\u001b[0m\u001b[0mremote_results\u001b[0m\u001b[1;33m,\u001b[0m \u001b[0mself\u001b[0m\u001b[1;33m.\u001b[0m\u001b[0m_ignore_worker_failures\u001b[0m\u001b[1;33m)\u001b[0m\u001b[1;33m\u001b[0m\u001b[1;33m\u001b[0m\u001b[0m\n\u001b[0m\u001b[0;32m    702\u001b[0m \u001b[1;33m\u001b[0m\u001b[0m\n\u001b[0;32m    703\u001b[0m         \u001b[1;31m# With application errors handled, return good results.\u001b[0m\u001b[1;33m\u001b[0m\u001b[1;33m\u001b[0m\u001b[1;33m\u001b[0m\u001b[0m\n",
      "\u001b[1;32mc:\\users\\octavio\\appdata\\local\\programs\\python\\python37\\lib\\site-packages\\ray\\rllib\\evaluation\\worker_set.py\u001b[0m in \u001b[0;36mhandle_remote_call_result_errors\u001b[1;34m(results, ignore_worker_failures)\u001b[0m\n\u001b[0;32m     72\u001b[0m             \u001b[0mlogger\u001b[0m\u001b[1;33m.\u001b[0m\u001b[0mexception\u001b[0m\u001b[1;33m(\u001b[0m\u001b[0mr\u001b[0m\u001b[1;33m.\u001b[0m\u001b[0mget\u001b[0m\u001b[1;33m(\u001b[0m\u001b[1;33m)\u001b[0m\u001b[1;33m)\u001b[0m\u001b[1;33m\u001b[0m\u001b[1;33m\u001b[0m\u001b[0m\n\u001b[0;32m     73\u001b[0m         \u001b[1;32melse\u001b[0m\u001b[1;33m:\u001b[0m\u001b[1;33m\u001b[0m\u001b[1;33m\u001b[0m\u001b[0m\n\u001b[1;32m---> 74\u001b[1;33m             \u001b[1;32mraise\u001b[0m \u001b[0mr\u001b[0m\u001b[1;33m.\u001b[0m\u001b[0mget\u001b[0m\u001b[1;33m(\u001b[0m\u001b[1;33m)\u001b[0m\u001b[1;33m\u001b[0m\u001b[1;33m\u001b[0m\u001b[0m\n\u001b[0m\u001b[0;32m     75\u001b[0m \u001b[1;33m\u001b[0m\u001b[0m\n\u001b[0;32m     76\u001b[0m \u001b[1;33m\u001b[0m\u001b[0m\n",
      "\u001b[1;31mRayTaskError(ValueError)\u001b[0m: \u001b[36mray::RolloutWorker.apply()\u001b[39m (pid=5256, ip=127.0.0.1, repr=<ray.rllib.evaluation.rollout_worker.RolloutWorker object at 0x00000125F9530D08>)\n  File \"python\\ray\\_raylet.pyx\", line 857, in ray._raylet.execute_task\n  File \"python\\ray\\_raylet.pyx\", line 861, in ray._raylet.execute_task\n  File \"python\\ray\\_raylet.pyx\", line 803, in ray._raylet.execute_task.function_executor\n  File \"c:\\users\\octavio\\appdata\\local\\programs\\python\\python37\\lib\\site-packages\\ray\\_private\\function_manager.py\", line 674, in actor_method_executor\n    return method(__ray_actor, *args, **kwargs)\n  File \"c:\\users\\octavio\\appdata\\local\\programs\\python\\python37\\lib\\site-packages\\ray\\util\\tracing\\tracing_helper.py\", line 466, in _resume_span\n    return method(self, *_args, **_kwargs)\n  File \"c:\\users\\octavio\\appdata\\local\\programs\\python\\python37\\lib\\site-packages\\ray\\rllib\\utils\\actor_manager.py\", line 183, in apply\n    raise e\n  File \"c:\\users\\octavio\\appdata\\local\\programs\\python\\python37\\lib\\site-packages\\ray\\rllib\\utils\\actor_manager.py\", line 174, in apply\n    return func(self, *args, **kwargs)\n  File \"c:\\users\\octavio\\appdata\\local\\programs\\python\\python37\\lib\\site-packages\\ray\\rllib\\execution\\rollout_ops.py\", line 86, in <lambda>\n    lambda w: w.sample(), local_worker=False, healthy_only=True\n  File \"c:\\users\\octavio\\appdata\\local\\programs\\python\\python37\\lib\\site-packages\\ray\\util\\tracing\\tracing_helper.py\", line 466, in _resume_span\n    return method(self, *_args, **_kwargs)\n  File \"c:\\users\\octavio\\appdata\\local\\programs\\python\\python37\\lib\\site-packages\\ray\\rllib\\evaluation\\rollout_worker.py\", line 914, in sample\n    batches = [self.input_reader.next()]\n  File \"c:\\users\\octavio\\appdata\\local\\programs\\python\\python37\\lib\\site-packages\\ray\\rllib\\evaluation\\sampler.py\", line 92, in next\n    batches = [self.get_data()]\n  File \"c:\\users\\octavio\\appdata\\local\\programs\\python\\python37\\lib\\site-packages\\ray\\rllib\\evaluation\\sampler.py\", line 277, in get_data\n    item = next(self._env_runner)\n  File \"c:\\users\\octavio\\appdata\\local\\programs\\python\\python37\\lib\\site-packages\\ray\\rllib\\evaluation\\env_runner_v2.py\", line 323, in run\n    outputs = self.step()\n  File \"c:\\users\\octavio\\appdata\\local\\programs\\python\\python37\\lib\\site-packages\\ray\\rllib\\evaluation\\env_runner_v2.py\", line 354, in step\n    infos=infos,\n  File \"c:\\users\\octavio\\appdata\\local\\programs\\python\\python37\\lib\\site-packages\\ray\\rllib\\evaluation\\env_runner_v2.py\", line 616, in _process_observations\n    processed = policy.agent_connectors(acd_list)\n  File \"c:\\users\\octavio\\appdata\\local\\programs\\python\\python37\\lib\\site-packages\\ray\\rllib\\connectors\\agent\\pipeline.py\", line 41, in __call__\n    ret = c(ret)\n  File \"c:\\users\\octavio\\appdata\\local\\programs\\python\\python37\\lib\\site-packages\\ray\\rllib\\connectors\\connector.py\", line 254, in __call__\n    return [self.transform(d) for d in acd_list]\n  File \"c:\\users\\octavio\\appdata\\local\\programs\\python\\python37\\lib\\site-packages\\ray\\rllib\\connectors\\connector.py\", line 254, in <listcomp>\n    return [self.transform(d) for d in acd_list]\n  File \"c:\\users\\octavio\\appdata\\local\\programs\\python\\python37\\lib\\site-packages\\ray\\rllib\\connectors\\agent\\obs_preproc.py\", line 59, in transform\n    d[SampleBatch.NEXT_OBS]\n  File \"c:\\users\\octavio\\appdata\\local\\programs\\python\\python37\\lib\\site-packages\\ray\\rllib\\models\\preprocessors.py\", line 206, in transform\n    self.check_shape(observation)\n  File \"c:\\users\\octavio\\appdata\\local\\programs\\python\\python37\\lib\\site-packages\\ray\\rllib\\models\\preprocessors.py\", line 80, in check_shape\n    self._obs_space,\nValueError: Observation ([272.2786   176.95445    9.906908   2.       373.1311  ] dtype=float32) outside given space (Box([200. 200.   0.   0. 200.], [500. 500.  12.  12. 500.], (5,), float32))!"
     ]
    }
   ],
   "source": [
    "#Train the transition model\n",
    "trans_model = train_cstr_model('transition')"
   ]
  },
  {
   "cell_type": "code",
   "execution_count": null,
   "id": "7cade865",
   "metadata": {},
   "outputs": [],
   "source": [
    "#ray.shutdown()\n",
    "#ray.init()\n",
    "\n",
    "#Train Steady State 2 model\n",
    "ss2_model = train_cstr_model('ss2')"
   ]
  },
  {
   "cell_type": "code",
   "execution_count": null,
   "id": "a76f8687",
   "metadata": {},
   "outputs": [],
   "source": [
    "#ray.shutdown()\n",
    "#ray.init()\n",
    "\n",
    "#Train Steady State 1 model\n",
    "ss1_model = train_cstr_model('ss1')"
   ]
  },
  {
   "cell_type": "code",
   "execution_count": null,
   "id": "1f7a583b",
   "metadata": {},
   "outputs": [],
   "source": [
    "#ray.shutdown()\n",
    "#ray.init()\n",
    "\n",
    "#Train Selector\n",
    "#selectorx = train_cstr_model('full',True,[\"/tmp/rllib_model_ss1\", \"/tmp/rllib_model_ss2\"])\n",
    "selectorx = train_cstr_model('full',True,[trans_model, ss1_model, ss2_model])"
   ]
  },
  {
   "cell_type": "code",
   "execution_count": null,
   "id": "396a6fbb",
   "metadata": {},
   "outputs": [],
   "source": []
  },
  {
   "cell_type": "code",
   "execution_count": 47,
   "id": "40c370f8",
   "metadata": {},
   "outputs": [
    {
     "data": {
      "text/plain": [
       "['G:\\\\Projetos Python\\\\DRL Bonsai\\\\RLLib\\\\cstr/models/cstr_rllib_model_full\\\\checkpoint_000005',\n",
       " 'G:\\\\Projetos Python\\\\DRL Bonsai\\\\RLLib\\\\cstr/models/cstr_rllib_model_full\\\\checkpoint_000020']"
      ]
     },
     "execution_count": 47,
     "metadata": {},
     "output_type": "execute_result"
    }
   ],
   "source": [
    "glob.glob(selectorx+\"/*\")"
   ]
  },
  {
   "cell_type": "code",
   "execution_count": 48,
   "id": "4f65a8ca",
   "metadata": {},
   "outputs": [
    {
     "name": "stderr",
     "output_type": "stream",
     "text": [
      "c:\\users\\octavio\\appdata\\local\\programs\\python\\python37\\lib\\site-packages\\gymnasium\\spaces\\box.py:127: UserWarning: \u001b[33mWARN: Box bound precision lowered by casting to float32\u001b[0m\n",
      "  logger.warn(f\"Box bound precision lowered by casting to {self.dtype}\")\n"
     ]
    }
   ],
   "source": [
    "#Benchmark\n",
    "\n",
    "bench_env = CSTREnv({\"Cref_signal\":4,\"selector\": True, \"model\":[trans_model, ss1_model, ss2_model]})"
   ]
  },
  {
   "cell_type": "code",
   "execution_count": 49,
   "id": "e9c9d6f5",
   "metadata": {},
   "outputs": [],
   "source": [
    "obs = bench_env.reset()"
   ]
  },
  {
   "cell_type": "code",
   "execution_count": 50,
   "id": "692d4626",
   "metadata": {},
   "outputs": [
    {
     "name": "stderr",
     "output_type": "stream",
     "text": [
      "\u001b[2m\u001b[36m(RolloutWorker pid=20280)\u001b[0m WARNING: Logging before flag parsing goes to stderr.\n",
      "\u001b[2m\u001b[36m(RolloutWorker pid=20280)\u001b[0m W0311 15:16:44.027879 19192 deprecation.py:506] From c:\\users\\octavio\\appdata\\local\\programs\\python\\python37\\lib\\site-packages\\tensorflow_core\\python\\ops\\resource_variable_ops.py:1630: calling BaseResourceVariable.__init__ (from tensorflow.python.ops.resource_variable_ops) with constraint is deprecated and will be removed in a future version.\n",
      "\u001b[2m\u001b[36m(RolloutWorker pid=20280)\u001b[0m Instructions for updating:\n",
      "\u001b[2m\u001b[36m(RolloutWorker pid=20280)\u001b[0m If using Keras pass *_constraint arguments to layers.\n",
      "\u001b[2m\u001b[36m(RolloutWorker pid=4792)\u001b[0m WARNING: Logging before flag parsing goes to stderr.\n",
      "\u001b[2m\u001b[36m(RolloutWorker pid=4792)\u001b[0m W0311 15:16:44.027879  8120 deprecation.py:506] From c:\\users\\octavio\\appdata\\local\\programs\\python\\python37\\lib\\site-packages\\tensorflow_core\\python\\ops\\resource_variable_ops.py:1630: calling BaseResourceVariable.__init__ (from tensorflow.python.ops.resource_variable_ops) with constraint is deprecated and will be removed in a future version.\n",
      "\u001b[2m\u001b[36m(RolloutWorker pid=4792)\u001b[0m Instructions for updating:\n",
      "\u001b[2m\u001b[36m(RolloutWorker pid=4792)\u001b[0m If using Keras pass *_constraint arguments to layers.\n",
      "\u001b[2m\u001b[36m(RolloutWorker pid=20280)\u001b[0m W0311 15:16:44.423879 19192 deprecation.py:323] From c:\\users\\octavio\\appdata\\local\\programs\\python\\python37\\lib\\site-packages\\tensorflow_core\\python\\ops\\math_grad.py:1424: where (from tensorflow.python.ops.array_ops) is deprecated and will be removed in a future version.\n",
      "\u001b[2m\u001b[36m(RolloutWorker pid=20280)\u001b[0m Instructions for updating:\n",
      "\u001b[2m\u001b[36m(RolloutWorker pid=20280)\u001b[0m Use tf.where in 2.0, which has the same broadcast rule as np.where\n",
      "\u001b[2m\u001b[36m(RolloutWorker pid=4792)\u001b[0m W0311 15:16:44.419879  8120 deprecation.py:323] From c:\\users\\octavio\\appdata\\local\\programs\\python\\python37\\lib\\site-packages\\tensorflow_core\\python\\ops\\math_grad.py:1424: where (from tensorflow.python.ops.array_ops) is deprecated and will be removed in a future version.\n",
      "\u001b[2m\u001b[36m(RolloutWorker pid=4792)\u001b[0m Instructions for updating:\n",
      "\u001b[2m\u001b[36m(RolloutWorker pid=4792)\u001b[0m Use tf.where in 2.0, which has the same broadcast rule as np.where\n",
      "\u001b[2m\u001b[36m(RolloutWorker pid=20280)\u001b[0m c:\\users\\octavio\\appdata\\local\\programs\\python\\python37\\lib\\site-packages\\gymnasium\\spaces\\box.py:127: UserWarning: \u001b[33mWARN: Box bound precision lowered by casting to float32\u001b[0m\n",
      "\u001b[2m\u001b[36m(RolloutWorker pid=20280)\u001b[0m   logger.warn(f\"Box bound precision lowered by casting to {self.dtype}\")\n",
      "\u001b[2m\u001b[36m(RolloutWorker pid=20280)\u001b[0m 2023-03-11 15:16:48,002\tWARNING utils.py:166 -- `config.auto_wrap_old_gym_envs` is activated AND you seem to have provided an old gym-API environment. RLlib will therefore try to auto-fix the following error. However, please consider switching over to the new `gymnasium` APIs:\n",
      "\u001b[2m\u001b[36m(RolloutWorker pid=20280)\u001b[0m Your environment ({}) does not abide to the new gymnasium-style API!\n",
      "\u001b[2m\u001b[36m(RolloutWorker pid=20280)\u001b[0m From Ray 2.3 on, RLlib only supports the new (gym>=0.26 or gymnasium) Env APIs.\n",
      "\u001b[2m\u001b[36m(RolloutWorker pid=20280)\u001b[0m {}\n",
      "\u001b[2m\u001b[36m(RolloutWorker pid=20280)\u001b[0m Learn more about the most important changes here:\n",
      "\u001b[2m\u001b[36m(RolloutWorker pid=20280)\u001b[0m https://github.com/openai/gym and here: https://github.com/Farama-Foundation/Gymnasium\n",
      "\u001b[2m\u001b[36m(RolloutWorker pid=20280)\u001b[0m \n",
      "\u001b[2m\u001b[36m(RolloutWorker pid=20280)\u001b[0m In order to fix this problem, do the following:\n",
      "\u001b[2m\u001b[36m(RolloutWorker pid=20280)\u001b[0m \n",
      "\u001b[2m\u001b[36m(RolloutWorker pid=20280)\u001b[0m 1) Run `pip install gymnasium` on your command line.\n",
      "\u001b[2m\u001b[36m(RolloutWorker pid=20280)\u001b[0m 2) Change all your import statements in your code from\n",
      "\u001b[2m\u001b[36m(RolloutWorker pid=20280)\u001b[0m    `import gym` -> `import gymnasium as gym` OR\n",
      "\u001b[2m\u001b[36m(RolloutWorker pid=20280)\u001b[0m    `from gym.space import Discrete` -> `from gymnasium.spaces import Discrete`\n",
      "\u001b[2m\u001b[36m(RolloutWorker pid=20280)\u001b[0m \n",
      "\u001b[2m\u001b[36m(RolloutWorker pid=20280)\u001b[0m For your custom (single agent) gym.Env classes:\n",
      "\u001b[2m\u001b[36m(RolloutWorker pid=20280)\u001b[0m 3.1) Either wrap your old Env class via the provided `from gymnasium.wrappers import\n",
      "\u001b[2m\u001b[36m(RolloutWorker pid=20280)\u001b[0m      EnvCompatibility` wrapper class.\n",
      "\u001b[2m\u001b[36m(RolloutWorker pid=20280)\u001b[0m 3.2) Alternatively to 3.1:\n",
      "\u001b[2m\u001b[36m(RolloutWorker pid=20280)\u001b[0m  - Change your `reset()` method to have the call signature 'def reset(self, *,\n",
      "\u001b[2m\u001b[36m(RolloutWorker pid=20280)\u001b[0m    seed=None, options=None)'\n",
      "\u001b[2m\u001b[36m(RolloutWorker pid=20280)\u001b[0m  - Return an additional info dict (empty dict should be fine) from your `reset()`\n",
      "\u001b[2m\u001b[36m(RolloutWorker pid=20280)\u001b[0m    method.\n",
      "\u001b[2m\u001b[36m(RolloutWorker pid=20280)\u001b[0m  - Return an additional `truncated` flag from your `step()` method (between `done` and\n",
      "\u001b[2m\u001b[36m(RolloutWorker pid=20280)\u001b[0m    `info`). This flag should indicate, whether the episode was terminated prematurely\n",
      "\u001b[2m\u001b[36m(RolloutWorker pid=20280)\u001b[0m    due to some time constraint or other kind of horizon setting.\n",
      "\u001b[2m\u001b[36m(RolloutWorker pid=20280)\u001b[0m \n",
      "\u001b[2m\u001b[36m(RolloutWorker pid=20280)\u001b[0m For your custom RLlib `MultiAgentEnv` classes:\n",
      "\u001b[2m\u001b[36m(RolloutWorker pid=20280)\u001b[0m 4.1) Either wrap your old MultiAgentEnv via the provided\n",
      "\u001b[2m\u001b[36m(RolloutWorker pid=20280)\u001b[0m      `from ray.rllib.env.wrappers.multi_agent_env_compatibility import\n",
      "\u001b[2m\u001b[36m(RolloutWorker pid=20280)\u001b[0m      MultiAgentEnvCompatibility` wrapper class.\n",
      "\u001b[2m\u001b[36m(RolloutWorker pid=20280)\u001b[0m 4.2) Alternatively to 4.1:\n",
      "\u001b[2m\u001b[36m(RolloutWorker pid=20280)\u001b[0m  - Change your `reset()` method to have the call signature\n",
      "\u001b[2m\u001b[36m(RolloutWorker pid=20280)\u001b[0m    'def reset(self, *, seed=None, options=None)'\n",
      "\u001b[2m\u001b[36m(RolloutWorker pid=20280)\u001b[0m  - Return an additional per-agent info dict (empty dict should be fine) from your\n",
      "\u001b[2m\u001b[36m(RolloutWorker pid=20280)\u001b[0m    `reset()` method.\n",
      "\u001b[2m\u001b[36m(RolloutWorker pid=20280)\u001b[0m  - Rename `dones` into `terminateds` and only set this to True, if the episode is really\n",
      "\u001b[2m\u001b[36m(RolloutWorker pid=20280)\u001b[0m    done (as opposed to has been terminated prematurely due to some horizon/time-limit\n",
      "\u001b[2m\u001b[36m(RolloutWorker pid=20280)\u001b[0m    setting).\n",
      "\u001b[2m\u001b[36m(RolloutWorker pid=20280)\u001b[0m  - Return an additional `truncateds` per-agent dictionary flag from your `step()`\n",
      "\u001b[2m\u001b[36m(RolloutWorker pid=20280)\u001b[0m    method, including the `__all__` key (100% analogous to your `dones/terminateds`\n",
      "\u001b[2m\u001b[36m(RolloutWorker pid=20280)\u001b[0m    per-agent dict).\n",
      "\u001b[2m\u001b[36m(RolloutWorker pid=20280)\u001b[0m    Return this new `truncateds` dict between `dones/terminateds` and `infos`. This\n",
      "\u001b[2m\u001b[36m(RolloutWorker pid=20280)\u001b[0m    flag should indicate, whether the episode (for some agent or all agents) was\n",
      "\u001b[2m\u001b[36m(RolloutWorker pid=20280)\u001b[0m    terminated prematurely due to some time constraint or other kind of horizon setting.\n",
      "\u001b[2m\u001b[36m(RolloutWorker pid=20280)\u001b[0m \n",
      "\u001b[2m\u001b[36m(RolloutWorker pid=20280)\u001b[0m 2023-03-11 15:16:48,002\tWARNING env.py:157 -- Your env doesn't have a .spec.max_episode_steps attribute. Your horizon will default to infinity, and your environment will not be reset.\n",
      "\u001b[2m\u001b[36m(RolloutWorker pid=20280)\u001b[0m 2023-03-11 15:16:48,003\tWARNING env.py:167 -- Your env reset() method appears to take 'seed' or 'return_info' arguments. Note that these are not yet supported in RLlib. Seeding will take place using 'env.seed()' and the info dict will not be returned from reset.\n",
      "\u001b[2m\u001b[36m(RolloutWorker pid=4792)\u001b[0m c:\\users\\octavio\\appdata\\local\\programs\\python\\python37\\lib\\site-packages\\gymnasium\\spaces\\box.py:127: UserWarning: \u001b[33mWARN: Box bound precision lowered by casting to float32\u001b[0m\n",
      "\u001b[2m\u001b[36m(RolloutWorker pid=4792)\u001b[0m   logger.warn(f\"Box bound precision lowered by casting to {self.dtype}\")\n",
      "2023-03-11 15:16:49,840\tINFO trainable.py:176 -- Trainable.setup took 12.824 seconds. If your trainable is slow to initialize, consider setting reuse_actors=True to reduce actor creation overheads.\n",
      "2023-03-11 15:16:49,842\tWARNING util.py:67 -- Install gputil for GPU system monitoring.\n"
     ]
    }
   ],
   "source": [
    "model = Algorithm.from_checkpoint(glob.glob(selectorx+\"/*\")[-1])\n",
    "#model = Algorithm.from_checkpoint('G:\\\\Projetos Python\\\\DRL Bonsai\\\\RLLib\\\\cstr\\\\models\\\\cstr_rllib_model_full\\\\checkpoint_000005')"
   ]
  },
  {
   "cell_type": "code",
   "execution_count": 51,
   "id": "fd64cff2",
   "metadata": {},
   "outputs": [],
   "source": [
    "df = pd.DataFrame()"
   ]
  },
  {
   "cell_type": "code",
   "execution_count": 52,
   "id": "5616c354",
   "metadata": {},
   "outputs": [
    {
     "name": "stdout",
     "output_type": "stream",
     "text": [
      "0 310.4287\n",
      "0 309.8238\n",
      "0 309.45242\n",
      "0 309.25958\n",
      "0 309.03387\n",
      "0 309.07047\n",
      "0 309.20197\n",
      "0 309.30484\n",
      "0 309.42102\n",
      "1 309.64682\n",
      "2 309.84235\n",
      "1 309.9478\n",
      "0 310.07452\n",
      "1 310.23102\n",
      "0 310.39423\n",
      "0 310.60052\n",
      "1 310.882\n",
      "0 311.00308\n",
      "0 311.1901\n",
      "0 311.31604\n",
      "0 311.41882\n",
      "0 311.38727\n",
      "2 311.4236\n",
      "0 311.51797\n",
      "0 311.73334\n",
      "0 312.0533\n",
      "0 312.43793\n",
      "1 312.8366\n",
      "1 313.156\n",
      "1 313.45654\n",
      "1 313.72482\n",
      "0 313.92105\n",
      "0 314.0943\n",
      "0 314.1251\n",
      "2 314.14188\n",
      "1 314.13303\n",
      "1 314.07675\n",
      "1 314.04007\n",
      "0 313.9618\n",
      "1 314.1211\n",
      "0 314.26385\n",
      "1 314.46246\n",
      "0 314.62427\n",
      "0 314.8163\n",
      "0 315.12943\n",
      "2 315.49472\n",
      "0 315.75525\n",
      "0 316.01642\n",
      "0 316.38226\n",
      "0 317.01328\n",
      "0 317.6563\n",
      "0 318.42477\n",
      "0 319.33295\n",
      "0 320.16226\n",
      "1 320.88785\n",
      "0 321.71643\n",
      "0 322.56406\n",
      "1 323.43686\n",
      "1 324.47064\n",
      "0 325.4809\n",
      "0 326.60577\n",
      "0 327.9589\n",
      "1 329.6384\n",
      "0 331.59995\n",
      "0 334.13486\n",
      "1 337.44305\n",
      "0 342.17523\n",
      "0 349.92593\n",
      "0 363.69153\n",
      "0 382.307\n",
      "0 386.03894\n",
      "0 383.50714\n",
      "0 381.8017\n",
      "1 381.33786\n",
      "1 381.17264\n",
      "2 381.1906\n",
      "0 381.2591\n",
      "2 381.28754\n",
      "0 381.2948\n",
      "0 381.39246\n",
      "0 381.6302\n",
      "0 381.99765\n",
      "0 382.55405\n",
      "0 383.09613\n",
      "0 383.4085\n",
      "1 383.2279\n",
      "0 382.91214\n",
      "0 382.80862\n",
      "0 382.9315\n",
      "1 383.06882\n"
     ]
    }
   ],
   "source": [
    "for n in range(90):\n",
    "    action = model.compute_single_action(obs)\n",
    "    obs, reward, done, info = bench_env.step(action)\n",
    "    df = df.append( pd.DataFrame(columns=['T', 'Tc','Ca','Cref','Tref'], data=[obs]))\n",
    "    #print(reward)\n",
    "    #print(action,obs[0])"
   ]
  },
  {
   "cell_type": "code",
   "execution_count": 53,
   "id": "d798c846",
   "metadata": {},
   "outputs": [],
   "source": [
    "df = df.reset_index()"
   ]
  },
  {
   "cell_type": "code",
   "execution_count": 54,
   "id": "2d711e30",
   "metadata": {},
   "outputs": [
    {
     "data": {
      "text/plain": [
       "<AxesSubplot:>"
      ]
     },
     "execution_count": 54,
     "metadata": {},
     "output_type": "execute_result"
    },
    {
     "data": {
      "image/png": "[encoded data removed]",
      "text/plain": [
       "<Figure size 432x288 with 1 Axes>"
      ]
     },
     "metadata": {
      "needs_background": "light"
     },
     "output_type": "display_data"
    }
   ],
   "source": [
    "df[['T','Tref']].plot()"
   ]
  },
  {
   "cell_type": "code",
   "execution_count": 55,
   "id": "4a383f5f",
   "metadata": {},
   "outputs": [
    {
     "data": {
      "text/plain": [
       "<AxesSubplot:>"
      ]
     },
     "execution_count": 55,
     "metadata": {},
     "output_type": "execute_result"
    },
    {
     "data": {
      "image/png": "[encoded data removed]",
      "text/plain": [
       "<Figure size 432x288 with 1 Axes>"
      ]
     },
     "metadata": {
      "needs_background": "light"
     },
     "output_type": "display_data"
    }
   ],
   "source": [
    "df[['Ca','Cref']].plot()"
   ]
  },
  {
   "cell_type": "code",
   "execution_count": 56,
   "id": "5d0e40f8",
   "metadata": {},
   "outputs": [
    {
     "data": {
      "text/plain": [
       "<AxesSubplot:>"
      ]
     },
     "execution_count": 56,
     "metadata": {},
     "output_type": "execute_result"
    },
    {
     "data": {
      "image/png": "[encoded data removed]",
      "text/plain": [
       "<Figure size 432x288 with 1 Axes>"
      ]
     },
     "metadata": {
      "needs_background": "light"
     },
     "output_type": "display_data"
    }
   ],
   "source": [
    "df[['Tc']].plot()"
   ]
  },
  {
   "cell_type": "code",
   "execution_count": null,
   "id": "d6ee7a59",
   "metadata": {},
   "outputs": [],
   "source": [
    "ppo2['default_policy'].compute_single_action(np.array([4.5607401e+02, 4.7123825e+02, 3.0847624e-01, 7.6466050e+00,\n",
    "       3.6512253e+02], dtype='float32'))[0][0]"
   ]
  },
  {
   "cell_type": "code",
   "execution_count": 24,
   "id": "4c77353c",
   "metadata": {},
   "outputs": [
    {
     "name": "stdout",
     "output_type": "stream",
     "text": [
      "G:\\Projetos Python\\DRL Bonsai\\RLLib\\cstr\n"
     ]
    }
   ],
   "source": [
    "print(os.getcwd())"
   ]
  },
  {
   "cell_type": "code",
   "execution_count": 23,
   "id": "036a99f7",
   "metadata": {},
   "outputs": [
    {
     "name": "stdout",
     "output_type": "stream",
     "text": [
      "G:\\tmp\n",
      "None\n"
     ]
    }
   ],
   "source": [
    "\n",
    "print(os.chdir(\"G:\\Projetos Python\\DRL Bonsai\\RLLib\\cstr\"))"
   ]
  },
  {
   "cell_type": "code",
   "execution_count": 16,
   "id": "c72d58f3",
   "metadata": {},
   "outputs": [
    {
     "ename": "FileExistsError",
     "evalue": "[WinError 183] Cannot create a file when that file already exists: '/tmp/'",
     "output_type": "error",
     "traceback": [
      "\u001b[1;31m---------------------------------------------------------------------------\u001b[0m",
      "\u001b[1;31mFileExistsError\u001b[0m                           Traceback (most recent call last)",
      "\u001b[1;32m<ipython-input-16-f1c482d4ec0a>\u001b[0m in \u001b[0;36m<module>\u001b[1;34m\u001b[0m\n\u001b[1;32m----> 1\u001b[1;33m \u001b[0mos\u001b[0m\u001b[1;33m.\u001b[0m\u001b[0mmkdir\u001b[0m\u001b[1;33m(\u001b[0m\u001b[1;34m\"/tmp/\"\u001b[0m\u001b[1;33m)\u001b[0m\u001b[1;33m\u001b[0m\u001b[1;33m\u001b[0m\u001b[0m\n\u001b[0m",
      "\u001b[1;31mFileExistsError\u001b[0m: [WinError 183] Cannot create a file when that file already exists: '/tmp/'"
     ]
    }
   ],
   "source": [
    "os.mkdir(\"/tmp/\")"
   ]
  },
  {
   "cell_type": "code",
   "execution_count": null,
   "id": "a2f5a238",
   "metadata": {},
   "outputs": [],
   "source": []
  }
 ],
 "metadata": {
  "kernelspec": {
   "display_name": "Python 3 (ipykernel)",
   "language": "python",
   "name": "python3"
  },
  "language_info": {
   "codemirror_mode": {
    "name": "ipython",
    "version": 3
   },
   "file_extension": ".py",
   "mimetype": "text/x-python",
   "name": "python",
   "nbconvert_exporter": "python",
   "pygments_lexer": "ipython3",
   "version": "3.7.4"
  }
 },
 "nbformat": 4,
 "nbformat_minor": 5
}
